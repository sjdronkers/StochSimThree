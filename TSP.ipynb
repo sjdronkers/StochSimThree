{
 "cells": [
  {
   "cell_type": "code",
   "execution_count": null,
   "metadata": {},
   "outputs": [],
   "source": [
    "import matplotlib.pyplot as plt\n",
    "import numpy as np\n",
    "import random"
   ]
  },
  {
   "cell_type": "markdown",
   "metadata": {},
   "source": [
    "## Classes & Functions"
   ]
  },
  {
   "cell_type": "markdown",
   "metadata": {},
   "source": [
    "#### Algorithms"
   ]
  },
  {
   "cell_type": "code",
   "execution_count": null,
   "metadata": {},
   "outputs": [],
   "source": [
    "class SimulatedAnnealing:\n",
    "    def __init__(self, current, temperature, nodes, steps):\n",
    "        self.initial_solution = current\n",
    "        self.current_solution = current\n",
    "        self.temperature = temperature\n",
    "        self.steps = steps\n",
    "        self.nodes = nodes\n",
    "        self.n = len(self.initial_solution)\n",
    "        self.rate = 0.99\n",
    "\n",
    "        self.current_score = self.distance(self.initial_solution)\n",
    "\n",
    "    def distance(self, solution) -> int:\n",
    "        distance = 0\n",
    "        for i in range(1, self.n):\n",
    "            distance += self.nodes[solution[i] - 1].distance(self.nodes[solution[i - 1] - 1])\n",
    "        return distance\n",
    "\n",
    "    def update_temperature(self) -> None:\n",
    "        self.temperature = self.temperature * self.rate\n",
    "\n",
    "    def swap(self, solution) -> list:\n",
    "        r_1, r_2, r_3, r_4 = np.random.randint(0, self.n, 4)\n",
    "        solution[r_1], solution[r_2], solution[r_3], solution[r_4] = solution[r_4], solution[r_3], solution[r_2], solution[r_1]\n",
    "        return solution\n",
    "\n",
    "    def run(self) -> list:\n",
    "        for _ in range(self.steps):\n",
    "            cur_sol = self.current_solution\n",
    "            new_solution = self.swap(cur_sol)\n",
    "            new_score = self.distance(new_solution)\n",
    "            print(new_score)\n",
    "            print(f'the current{self.current_score}')\n",
    "\n",
    "            if self.current_score > new_score:\n",
    "                self.current_score = new_score\n",
    "                self.current_solution = new_solution\n",
    "            else:\n",
    "                score_diff = self.current_score - new_score\n",
    "                if np.exp(score_diff/self.temperature) > random.random():\n",
    "                    self.current_solution = new_solution\n",
    "                    self.current_score = new_score\n",
    "\n",
    "            self.update_temperature()\n",
    "\n",
    "        return self.current_solution, self.current_score"
   ]
  },
  {
   "cell_type": "code",
   "execution_count": null,
   "metadata": {},
   "outputs": [],
   "source": [
    "class Greedy:\n",
    "    def __init__(self, nodes):\n",
    "        self.network = nodes\n",
    "        self.current_city = self.starting_point()\n",
    "        self.n = len(self.network)\n",
    "        self.order = [self.current_city]\n",
    "        self.distance = 0\n",
    "\n",
    "    def starting_point(self, number=1) -> int:\n",
    "        return number\n",
    "\n",
    "    def next_city(self) -> None:\n",
    "        current_node = self.network[self.current_city - 1]\n",
    "        connections = current_node.get_connections()\n",
    "\n",
    "        sorted_connections = {k: v for k, v in sorted(connections.items(),\n",
    "            key=lambda item: item[1])}\n",
    "\n",
    "        for con in sorted_connections:\n",
    "            if con not in self.order:\n",
    "                self.order.append(con)\n",
    "                self.distance += current_node.distance(self.network[con - 1])\n",
    "                self.current_city = con\n",
    "                break\n",
    "\n",
    "    def get_solution(self):\n",
    "        return self.order\n",
    "\n",
    "    def get_distance(self):\n",
    "        return self.distance\n",
    "\n",
    "    def run(self) -> list:\n",
    "        while len(self.order) < self.n:\n",
    "            self.next_city()\n",
    "        return self.order, self.distance"
   ]
  },
  {
   "cell_type": "code",
   "execution_count": null,
   "metadata": {},
   "outputs": [],
   "source": [
    "class Random:\n",
    "    def __init__(self, nodes):\n",
    "        pass"
   ]
  },
  {
   "cell_type": "markdown",
   "metadata": {},
   "source": [
    "#### Network"
   ]
  },
  {
   "cell_type": "code",
   "execution_count": null,
   "metadata": {},
   "outputs": [],
   "source": [
    "class Node:\n",
    "    def __init__(self, x, y, number):\n",
    "        self.number = number\n",
    "        self.x = x\n",
    "        self.y = y\n",
    "        self.connections = {}\n",
    "\n",
    "    def distance(self, b) -> int:\n",
    "        return np.linalg.norm(np.array(self.get_coordinates())\n",
    "            - np.array(b.get_coordinates()))\n",
    "\n",
    "    def get_coordinates(self) -> list:\n",
    "        return [self.x, self.y]\n",
    "\n",
    "    def create_connections(self, nodes) -> None:\n",
    "        for node in nodes:\n",
    "            if node.number == self.number:\n",
    "                continue\n",
    "            self.connections[node.number] = self.distance(node)\n",
    "\n",
    "    def get_connections(self) -> dict:\n",
    "        return self.connections"
   ]
  },
  {
   "cell_type": "markdown",
   "metadata": {},
   "source": [
    "#### Helper"
   ]
  },
  {
   "cell_type": "code",
   "execution_count": null,
   "metadata": {},
   "outputs": [],
   "source": [
    "def load_data(file_name) -> list:\n",
    "    \"\"\"\n",
    "    Loads in a text file with the given file name and creates a node for every\n",
    "    point. Returns a list of nodes.\n",
    "    \"\"\"\n",
    "    contents = open(f'TSP-Configurations/{file_name}.txt', \"r\")\n",
    "    contents = contents.read().splitlines()[6:-1]\n",
    "    nodes = list()\n",
    "\n",
    "    # Go through every line of the file and create node for every line.\n",
    "    for node in contents:\n",
    "        values = [int(value) for value in node.split()]\n",
    "        nodes.append(Node(values[1], values[2], values[0]))\n",
    "\n",
    "    # Return the list of nodes.\n",
    "    return nodes\n"
   ]
  },
  {
   "cell_type": "code",
   "execution_count": null,
   "metadata": {},
   "outputs": [],
   "source": [
    "def create_connections(nodes) -> list:\n",
    "    \"\"\"\n",
    "    Function that connections a city with every other city.\n",
    "    Returns a list with connected nodes.\n",
    "    \"\"\"\n",
    "    for node in nodes:\n",
    "        node.create_connections(nodes)\n",
    "    return nodes"
   ]
  },
  {
   "cell_type": "code",
   "execution_count": null,
   "metadata": {},
   "outputs": [],
   "source": [
    "def distance_travelled(solution, nodes) -> int:\n",
    "    distance = 0\n",
    "    for i in range(1, len(solution)):\n",
    "        distance += nodes[solution[i]].distance(nodes[solution[i - 1]])\n",
    "    return distance"
   ]
  },
  {
   "cell_type": "code",
   "execution_count": null,
   "metadata": {},
   "outputs": [],
   "source": [
    "def calculate_optimal():\n",
    "    pass"
   ]
  },
  {
   "cell_type": "markdown",
   "metadata": {},
   "source": [
    "## Testing"
   ]
  },
  {
   "cell_type": "markdown",
   "metadata": {},
   "source": [
    "Testing happens on the configuration of the eli51.tsp file. For experiments the bigger\n",
    "network a280.tsp is used. "
   ]
  },
  {
   "cell_type": "code",
   "execution_count": null,
   "metadata": {},
   "outputs": [],
   "source": [
    "file_name = 'eli51.tsp'"
   ]
  },
  {
   "cell_type": "code",
   "execution_count": null,
   "metadata": {},
   "outputs": [],
   "source": [
    "# Load in data and create the connections.\n",
    "data = load_data(file_name)\n",
    "nodes = create_connections(data)\n",
    "\n",
    "# Create Greedy object and run the algorithm to get a base network.\n",
    "greedy = Greedy(nodes)\n",
    "results_greedy, distance_1 = greedy.run()\n",
    "siman = SimulatedAnnealing(results_greedy, 100, nodes)\n",
    "print(distance_1)\n",
    "print(siman.run())"
   ]
  },
  {
   "cell_type": "markdown",
   "metadata": {},
   "source": [
    "## Experiments"
   ]
  },
  {
   "cell_type": "code",
   "execution_count": null,
   "metadata": {},
   "outputs": [],
   "source": []
  }
 ],
 "metadata": {
  "language_info": {
   "name": "python"
  }
 },
 "nbformat": 4,
 "nbformat_minor": 2
}
