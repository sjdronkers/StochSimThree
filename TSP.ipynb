{
 "cells": [
  {
   "cell_type": "code",
   "execution_count": 45,
   "metadata": {},
   "outputs": [],
   "source": [
    "import matplotlib.pyplot as plt\n",
    "import numpy as np\n",
    "import random"
   ]
  },
  {
   "cell_type": "markdown",
   "metadata": {},
   "source": [
    "## Classes & Functions"
   ]
  },
  {
   "cell_type": "markdown",
   "metadata": {},
   "source": [
    "#### Algorithms"
   ]
  },
  {
   "cell_type": "code",
   "execution_count": null,
   "metadata": {},
   "outputs": [],
   "source": [
    "class SimulatedAnnealing:\n",
    "    def __init__(self, current, temperature, nodes, steps):\n",
    "        self.initial_solution = current\n",
    "        self.current_solution = current\n",
    "        self.temperature = temperature\n",
    "        self.steps = steps\n",
    "        self.nodes = nodes\n",
    "        self.n = len(self.initial_solution)\n",
    "        self.rate = 0.99\n",
    "\n",
    "        self.current_score = self.distance(self.initial_solution)\n",
    "\n",
    "    def distance(self, solution) -> int:\n",
    "        distance = 0\n",
    "        for i in range(1, self.n):\n",
    "            distance += self.nodes[solution[i] - 1].distance(self.nodes[solution[i - 1] - 1])\n",
    "        return distance\n",
    "\n",
    "    def update_temperature(self) -> None:\n",
    "        self.temperature = self.temperature * self.rate\n",
    "\n",
    "    def swap(self, solution) -> list:\n",
    "        r_1, r_2, r_3, r_4 = np.random.randint(0, self.n, 4)\n",
    "        solution[r_1], solution[r_2], solution[r_3], solution[r_4] = solution[r_4], solution[r_3], solution[r_2], solution[r_1]\n",
    "        return solution\n",
    "\n",
    "    def run(self) -> list:\n",
    "        for _ in range(self.steps):\n",
    "            cur_sol = self.current_solution\n",
    "            new_solution = self.swap(cur_sol)\n",
    "            new_score = self.distance(new_solution)\n",
    "            print(new_score)\n",
    "            print(f'the current{self.current_score}')\n",
    "\n",
    "            if self.current_score > new_score:\n",
    "                self.current_score = new_score\n",
    "                self.current_solution = new_solution\n",
    "            else:\n",
    "                score_diff = self.current_score - new_score\n",
    "                if np.exp(score_diff/self.temperature) > random.random():\n",
    "                    self.current_solution = new_solution\n",
    "                    self.current_score = new_score\n",
    "\n",
    "            self.update_temperature()\n",
    "\n",
    "        return self.current_solution, self.current_score"
   ]
  },
  {
   "cell_type": "code",
   "execution_count": 86,
   "metadata": {},
   "outputs": [],
   "source": [
    "def create_random(starting_list) -> list:\n",
    "    \"\"\"\n",
    "    Creates random initial solution, it shuffles the list and returns it.\n",
    "    \"\"\"\n",
    "\n",
    "    random.shuffle(starting_list)\n",
    "    return starting_list"
   ]
  },
  {
   "cell_type": "markdown",
   "metadata": {},
   "source": [
    "#### Network"
   ]
  },
  {
   "cell_type": "code",
   "execution_count": 31,
   "metadata": {},
   "outputs": [],
   "source": [
    "class Node:\n",
    "    def __init__(self, coordinates, number):\n",
    "        self.number = number\n",
    "        self.x, self.y = coordinates\n",
    "        # self.connections = {}\n",
    "\n",
    "    def distance(self, b) -> int:\n",
    "        return np.linalg.norm(np.array(self.get_coordinates())\n",
    "            - np.array(b.get_coordinates()))\n",
    "\n",
    "    def get_coordinates(self) -> list:\n",
    "        return [self.x, self.y]"
   ]
  },
  {
   "cell_type": "markdown",
   "metadata": {},
   "source": [
    "#### Helper"
   ]
  },
  {
   "cell_type": "code",
   "execution_count": 68,
   "metadata": {},
   "outputs": [],
   "source": [
    "def load_data(file_name) -> dict:\n",
    "    \"\"\"\n",
    "    Loads in a text file with the given file name and creates a node for every\n",
    "    point. Returns a list of nodes.\n",
    "    \"\"\"\n",
    "    file = open(f'TSP-Configurations/{file_name}.tsp.txt', \"r\")\n",
    "    file = file.read().splitlines()[6:-1]\n",
    "    nodes = dict()\n",
    "    ids = list()\n",
    "\n",
    "    # Go through every line of the file and create node for every line.\n",
    "    for node in file:\n",
    "        values = [int(value) for value in node.split()]\n",
    "        nodes[values[0]] = Node([values[1], values[2]], values[0])\n",
    "        ids.append(values[0])\n",
    "\n",
    "    # Return the list of nodes.\n",
    "    return nodes, ids\n"
   ]
  },
  {
   "cell_type": "code",
   "execution_count": null,
   "metadata": {},
   "outputs": [],
   "source": [
    "def distance_travelled(solution, nodes) -> int:\n",
    "    return sum([nodes[solution[i]].distance(nodes[solution[i - 1]])] for i in range(1, len(solution)))"
   ]
  },
  {
   "cell_type": "code",
   "execution_count": 56,
   "metadata": {},
   "outputs": [],
   "source": [
    "def calculate_optimal(nodes, file_name) -> float:\n",
    "    \"\"\"\n",
    "    Takes the dictionary of nodes and calculates the distance travelled of the\n",
    "    optimal tour. This serves as a benchmark for the Simulated Annealing\n",
    "    algorithm.\n",
    "    \"\"\"\n",
    "\n",
    "    optimal = open(f'TSP-Configurations/{file_name}.opt.tour.txt', \"r\")\n",
    "    optimal = optimal.read().splitlines()[5:-1]\n",
    "    return sum([nodes[int(optimal[i])].distance(nodes[abs(int(optimal[i + 1]))]) for i in range(len(optimal) - 1)])"
   ]
  },
  {
   "cell_type": "code",
   "execution_count": 84,
   "metadata": {},
   "outputs": [],
   "source": [
    "def calculate_current_score(nodes, current_state) -> float:\n",
    "    distance = 0\n",
    "\n",
    "    for i in range(len(current_state) - 1):\n",
    "        distance += nodes[current_state[i]].distance(nodes[current_state[i + 1]])\n",
    "\n",
    "    return distance\n"
   ]
  },
  {
   "cell_type": "markdown",
   "metadata": {},
   "source": [
    "## Testing"
   ]
  },
  {
   "cell_type": "markdown",
   "metadata": {},
   "source": [
    "Testing happens on the configuration of the eli51.tsp file. For experiments the bigger\n",
    "network a280.tsp is used. "
   ]
  },
  {
   "cell_type": "code",
   "execution_count": 62,
   "metadata": {},
   "outputs": [],
   "source": [
    "file_name = 'eil51'"
   ]
  },
  {
   "cell_type": "code",
   "execution_count": 69,
   "metadata": {},
   "outputs": [],
   "source": [
    "# Load in data and create the connections.\n",
    "nodes, initial_list = load_data(file_name)\n",
    "# nodes = create_connections(data)"
   ]
  },
  {
   "cell_type": "code",
   "execution_count": 77,
   "metadata": {},
   "outputs": [],
   "source": [
    "random_start = create_random(initial_list)"
   ]
  },
  {
   "cell_type": "code",
   "execution_count": 85,
   "metadata": {},
   "outputs": [
    {
     "data": {
      "text/plain": [
       "1560.3536229040096"
      ]
     },
     "execution_count": 85,
     "metadata": {},
     "output_type": "execute_result"
    }
   ],
   "source": [
    "calculate_current_score(nodes, random_start)"
   ]
  },
  {
   "cell_type": "code",
   "execution_count": 64,
   "metadata": {},
   "outputs": [
    {
     "data": {
      "text/plain": [
       "429.98331198338406"
      ]
     },
     "execution_count": 64,
     "metadata": {},
     "output_type": "execute_result"
    }
   ],
   "source": [
    "calculate_optimal(nodes, file_name)"
   ]
  },
  {
   "cell_type": "markdown",
   "metadata": {},
   "source": [
    "## Experiments"
   ]
  },
  {
   "cell_type": "code",
   "execution_count": null,
   "metadata": {},
   "outputs": [],
   "source": []
  }
 ],
 "metadata": {
  "kernelspec": {
   "display_name": "Python 3",
   "language": "python",
   "name": "python3"
  },
  "language_info": {
   "codemirror_mode": {
    "name": "ipython",
    "version": 3
   },
   "file_extension": ".py",
   "mimetype": "text/x-python",
   "name": "python",
   "nbconvert_exporter": "python",
   "pygments_lexer": "ipython3",
   "version": "3.9.9"
  }
 },
 "nbformat": 4,
 "nbformat_minor": 2
}
