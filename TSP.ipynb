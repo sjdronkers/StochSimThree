{
 "cells": [
  {
   "cell_type": "code",
   "execution_count": 45,
   "metadata": {},
   "outputs": [],
   "source": [
    "import matplotlib.pyplot as plt\n",
    "import numpy as np\n",
    "import random"
   ]
  },
  {
   "cell_type": "markdown",
   "metadata": {},
   "source": [
    "## Classes & Functions"
   ]
  },
  {
   "cell_type": "markdown",
   "metadata": {},
   "source": [
    "#### Algorithms"
   ]
  },
  {
   "cell_type": "code",
   "execution_count": 191,
   "metadata": {},
   "outputs": [],
   "source": [
    "class SimulatedAnnealing:\n",
    "    def __init__(self, starting_route, temperature, rate, nodes, markov_length, temperature_minimum=1e-5):\n",
    "        self.initial_solution = starting_route\n",
    "        self.current_solution = self.initial_solution\n",
    "        self.temperature = temperature\n",
    "        self.nodes = nodes\n",
    "        self.markov_length = markov_length\n",
    "        self.temperature_minimum = temperature_minimum\n",
    "        self.n = len(self.initial_solution)\n",
    "        self.rate = rate\n",
    "\n",
    "        self.current_score = self.distance(self.initial_solution)\n",
    "\n",
    "    def distance(self, current_state) -> int:\n",
    "        return sum([self.nodes[current_state[i]].distance(self.nodes[current_state[i + 1]]) for i in range(len(current_state) - 1)])\n",
    "\n",
    "    def update_temperature(self) -> None:\n",
    "        self.temperature = self.temperature * self.rate\n",
    "\n",
    "    def two_opt_move(self, solution) -> list:\n",
    "        i, j = np.sort(np.random.randint(1, self.n - 1, 2))\n",
    "        new_solution = solution[:i] + solution[i:j][::-1] + solution[j:]\n",
    "        return new_solution\n",
    "\n",
    "    def run(self) -> list:\n",
    "        while self.temperature > self.temperature_minimum:\n",
    "            for _ in range(self.markov_length):\n",
    "                cur_sol = self.current_solution\n",
    "                new_solution = self.two_opt_move(cur_sol)\n",
    "                new_score = self.distance(new_solution)\n",
    "\n",
    "                if self.current_score > new_score:\n",
    "                    self.current_score = new_score\n",
    "                    self.current_solution = new_solution\n",
    "                else:\n",
    "                    score_diff = self.current_score - new_score\n",
    "                    if np.exp(score_diff/self.temperature) > random.random():\n",
    "                        self.current_solution = new_solution\n",
    "                        self.current_score = new_score\n",
    "\n",
    "            self.update_temperature()\n",
    "\n",
    "        return self.current_solution, self.current_score"
   ]
  },
  {
   "cell_type": "code",
   "execution_count": 94,
   "metadata": {},
   "outputs": [],
   "source": [
    "def create_random(starting_list) -> list:\n",
    "    \"\"\"\n",
    "    Creates random initial solution, it shuffles the list and returns it.\n",
    "    \"\"\"\n",
    "\n",
    "    random.shuffle(starting_list)\n",
    "    starting_list.append(1)\n",
    "    return starting_list"
   ]
  },
  {
   "cell_type": "markdown",
   "metadata": {},
   "source": [
    "#### Network"
   ]
  },
  {
   "cell_type": "code",
   "execution_count": 31,
   "metadata": {},
   "outputs": [],
   "source": [
    "class Node:\n",
    "    def __init__(self, coordinates, number):\n",
    "        self.number = number\n",
    "        self.x, self.y = coordinates\n",
    "\n",
    "    def distance(self, b) -> int:\n",
    "        return np.linalg.norm(np.array(self.get_coordinates())\n",
    "            - np.array(b.get_coordinates()))\n",
    "\n",
    "    def get_coordinates(self) -> list:\n",
    "        return [self.x, self.y]"
   ]
  },
  {
   "cell_type": "markdown",
   "metadata": {},
   "source": [
    "#### Helper"
   ]
  },
  {
   "cell_type": "code",
   "execution_count": 68,
   "metadata": {},
   "outputs": [],
   "source": [
    "def load_data(file_name) -> dict:\n",
    "    \"\"\"\n",
    "    Loads in a text file with the given file name and creates a node for every\n",
    "    point. Returns a list of nodes.\n",
    "    \"\"\"\n",
    "    file = open(f'TSP-Configurations/{file_name}.tsp.txt', \"r\")\n",
    "    file = file.read().splitlines()[6:-1]\n",
    "    nodes = dict()\n",
    "    ids = list()\n",
    "\n",
    "    # Go through every line of the file and create node for every line.\n",
    "    for node in file:\n",
    "        values = [int(value) for value in node.split()]\n",
    "        nodes[values[0]] = Node([values[1], values[2]], values[0])\n",
    "        ids.append(values[0])\n",
    "\n",
    "    # Return the list of nodes.\n",
    "    return nodes, ids\n"
   ]
  },
  {
   "cell_type": "code",
   "execution_count": 56,
   "metadata": {},
   "outputs": [],
   "source": [
    "def calculate_optimal(nodes, file_name) -> float:\n",
    "    \"\"\"\n",
    "    Takes the dictionary of nodes and calculates the distance travelled of the\n",
    "    optimal tour. This serves as a benchmark for the Simulated Annealing\n",
    "    algorithm.\n",
    "    \"\"\"\n",
    "\n",
    "    optimal = open(f'TSP-Configurations/{file_name}.opt.tour.txt', \"r\")\n",
    "    optimal = optimal.read().splitlines()[5:-1]\n",
    "    return sum([nodes[int(optimal[i])].distance(nodes[abs(int(optimal[i + 1]))]) for i in range(len(optimal) - 1)])"
   ]
  },
  {
   "cell_type": "code",
   "execution_count": 88,
   "metadata": {},
   "outputs": [],
   "source": [
    "def calculate_current_score(nodes, current_state) -> float:\n",
    "    return sum([nodes[current_state[i]].distance(nodes[current_state[i + 1]]) for i in range(len(current_state) - 1)])\n"
   ]
  },
  {
   "cell_type": "markdown",
   "metadata": {},
   "source": [
    "## Testing"
   ]
  },
  {
   "cell_type": "markdown",
   "metadata": {},
   "source": [
    "Testing happens on the configuration of the eli51.tsp file. For experiments the bigger\n",
    "network a280.tsp is used. "
   ]
  },
  {
   "cell_type": "code",
   "execution_count": 195,
   "metadata": {},
   "outputs": [],
   "source": [
    "# Create simple TSP\n",
    "file_name = 'eil51'\n",
    "nodes, initial_list = load_data(file_name)\n",
    "copy_initial = initial_list.copy()\n",
    "temperature = 10000\n",
    "rate = 0.9999\n",
    "markov_length = 10"
   ]
  },
  {
   "cell_type": "code",
   "execution_count": 196,
   "metadata": {},
   "outputs": [],
   "source": [
    "random_start = create_random(copy_initial)\n",
    "siman = SimulatedAnnealing(random_start, temperature, rate, nodes, markov_length)"
   ]
  },
  {
   "cell_type": "code",
   "execution_count": 197,
   "metadata": {},
   "outputs": [],
   "source": [
    "solution, score = siman.run()"
   ]
  },
  {
   "cell_type": "code",
   "execution_count": 198,
   "metadata": {},
   "outputs": [
    {
     "name": "stdout",
     "output_type": "stream",
     "text": [
      "470.8302769307382\n"
     ]
    }
   ],
   "source": [
    "print(score)"
   ]
  },
  {
   "cell_type": "code",
   "execution_count": 178,
   "metadata": {},
   "outputs": [
    {
     "data": {
      "text/plain": [
       "1299.575900454896"
      ]
     },
     "execution_count": 178,
     "metadata": {},
     "output_type": "execute_result"
    }
   ],
   "source": [
    "calculate_current_score(nodes, initial_list)"
   ]
  },
  {
   "cell_type": "code",
   "execution_count": 177,
   "metadata": {},
   "outputs": [],
   "source": [
    "random_start = create_random(copy_initial)\n"
   ]
  },
  {
   "cell_type": "code",
   "execution_count": 199,
   "metadata": {},
   "outputs": [
    {
     "data": {
      "text/plain": [
       "1644.0155205088752"
      ]
     },
     "execution_count": 199,
     "metadata": {},
     "output_type": "execute_result"
    }
   ],
   "source": [
    "calculate_current_score(nodes, random_start)"
   ]
  },
  {
   "cell_type": "code",
   "execution_count": 180,
   "metadata": {},
   "outputs": [
    {
     "data": {
      "text/plain": [
       "429.98331198338406"
      ]
     },
     "execution_count": 180,
     "metadata": {},
     "output_type": "execute_result"
    }
   ],
   "source": [
    "calculate_optimal(nodes, file_name)"
   ]
  },
  {
   "cell_type": "code",
   "execution_count": null,
   "metadata": {},
   "outputs": [],
   "source": []
  },
  {
   "cell_type": "markdown",
   "metadata": {},
   "source": [
    "## Experiments"
   ]
  },
  {
   "cell_type": "code",
   "execution_count": null,
   "metadata": {},
   "outputs": [],
   "source": []
  }
 ],
 "metadata": {
  "kernelspec": {
   "display_name": "Python 3",
   "language": "python",
   "name": "python3"
  },
  "language_info": {
   "codemirror_mode": {
    "name": "ipython",
    "version": 3
   },
   "file_extension": ".py",
   "mimetype": "text/x-python",
   "name": "python",
   "nbconvert_exporter": "python",
   "pygments_lexer": "ipython3",
   "version": "3.9.9"
  }
 },
 "nbformat": 4,
 "nbformat_minor": 2
}
