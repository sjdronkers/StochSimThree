{
 "cells": [
  {
   "cell_type": "code",
   "execution_count": 231,
   "metadata": {},
   "outputs": [],
   "source": [
    "import matplotlib.pyplot as plt\n",
    "import numpy as np\n",
    "import random\n",
    "import scipy.stats as stats\n",
    "import seaborn as sns"
   ]
  },
  {
   "cell_type": "markdown",
   "metadata": {},
   "source": [
    "## Classes & Functions"
   ]
  },
  {
   "cell_type": "markdown",
   "metadata": {},
   "source": [
    "#### Algorithms"
   ]
  },
  {
   "cell_type": "code",
   "execution_count": 259,
   "metadata": {},
   "outputs": [],
   "source": [
    "class SimulatedAnnealing:\n",
    "    def __init__(self, starting_route, temperature, rate, nodes, markov_length, temperature_minimum=1e-5):\n",
    "        self.initial_solution = starting_route\n",
    "        self.current_solution = self.initial_solution\n",
    "        self.temperature = temperature\n",
    "        self.nodes = nodes\n",
    "        self.markov_length = markov_length\n",
    "        self.temperature_minimum = temperature_minimum\n",
    "        self.n = len(self.initial_solution)\n",
    "        self.rate = rate\n",
    "        self.steps = 0\n",
    "        self.plot_steps = list()\n",
    "        self.scores = list()\n",
    "\n",
    "        self.current_score = self.distance(self.initial_solution)\n",
    "\n",
    "    def distance(self, current_state) -> int:\n",
    "        return sum([self.nodes[current_state[i]].distance(self.nodes[current_state[i + 1]]) for i in range(len(current_state) - 1)])\n",
    "\n",
    "    def update_temperature(self) -> None:\n",
    "        self.temperature = self.temperature * self.rate\n",
    "\n",
    "    def two_opt_move(self, solution) -> list:\n",
    "        i, j = np.sort(np.random.randint(1, self.n - 1, 2))\n",
    "        while abs(i - j) <=1:\n",
    "            i, j = np.sort(np.random.randint(1, self.n - 1, 2))\n",
    "        new_solution = solution[:i] + solution[i:j][::-1] + solution[j:]\n",
    "        return new_solution\n",
    "\n",
    "    def run(self) -> list:\n",
    "        while self.temperature > self.temperature_minimum:\n",
    "            for _ in range(self.markov_length):\n",
    "                cur_sol = self.current_solution\n",
    "                new_solution = self.two_opt_move(cur_sol)\n",
    "                new_score = self.distance(new_solution)\n",
    "\n",
    "                if self.current_score > new_score:\n",
    "                    self.current_score = new_score\n",
    "                    self.current_solution = new_solution\n",
    "                else:\n",
    "                    score_diff = self.current_score - new_score\n",
    "                    if np.exp(score_diff/self.temperature) > random.random():\n",
    "                        self.current_solution = new_solution\n",
    "                        self.current_score = new_score\n",
    "\n",
    "            self.steps += 1\n",
    "            if self.steps % 100 ==0:\n",
    "                self.plot_steps.append(self.steps)\n",
    "                self.scores.append(self.current_score)\n",
    "\n",
    "            self.update_temperature()\n",
    "\n",
    "        return self.current_solution, self.current_score"
   ]
  },
  {
   "cell_type": "code",
   "execution_count": 289,
   "metadata": {},
   "outputs": [],
   "source": [
    "def create_random(starting_list) -> list:\n",
    "    \"\"\"\n",
    "    Creates random initial solution, it shuffles the list and returns it.\n",
    "    \"\"\"\n",
    "    random.shuffle(starting_list)\n",
    "    starting_list.append(1)\n",
    "    starting_list = [1] + starting_list\n",
    "    return starting_list"
   ]
  },
  {
   "cell_type": "markdown",
   "metadata": {},
   "source": [
    "#### Network"
   ]
  },
  {
   "cell_type": "code",
   "execution_count": 31,
   "metadata": {},
   "outputs": [],
   "source": [
    "class Node:\n",
    "    def __init__(self, coordinates, number):\n",
    "        self.number = number\n",
    "        self.x, self.y = coordinates\n",
    "\n",
    "    def distance(self, b) -> int:\n",
    "        return np.linalg.norm(np.array(self.get_coordinates())\n",
    "            - np.array(b.get_coordinates()))\n",
    "\n",
    "    def get_coordinates(self) -> list:\n",
    "        return [self.x, self.y]"
   ]
  },
  {
   "cell_type": "markdown",
   "metadata": {},
   "source": [
    "#### Helper"
   ]
  },
  {
   "cell_type": "code",
   "execution_count": 292,
   "metadata": {},
   "outputs": [],
   "source": [
    "def load_data(file_name) -> dict:\n",
    "    \"\"\"\n",
    "    Loads in a text file with the given file name and creates a node for every\n",
    "    point. Returns a list of nodes.\n",
    "    \"\"\"\n",
    "    file = open(f'TSP-Configurations/{file_name}.tsp.txt', \"r\")\n",
    "    file = file.read().splitlines()[6:-1]\n",
    "    nodes = dict()\n",
    "    ids = list()\n",
    "\n",
    "    # Go through every line of the file and create node for every line.\n",
    "    for node in file:\n",
    "        values = [int(value) for value in node.split()]\n",
    "        nodes[values[0]] = Node([values[1], values[2]], values[0])\n",
    "        if values[0] == 1:\n",
    "            continue\n",
    "        else:\n",
    "            ids.append(values[0])\n",
    "\n",
    "    # Return the list of nodes.\n",
    "    return nodes, ids\n"
   ]
  },
  {
   "cell_type": "code",
   "execution_count": 56,
   "metadata": {},
   "outputs": [],
   "source": [
    "def calculate_optimal(nodes, file_name) -> float:\n",
    "    \"\"\"\n",
    "    Takes the dictionary of nodes and calculates the distance travelled of the\n",
    "    optimal tour. This serves as a benchmark for the Simulated Annealing\n",
    "    algorithm.\n",
    "    \"\"\"\n",
    "\n",
    "    optimal = open(f'TSP-Configurations/{file_name}.opt.tour.txt', \"r\")\n",
    "    optimal = optimal.read().splitlines()[5:-1]\n",
    "    return sum([nodes[int(optimal[i])].distance(nodes[abs(int(optimal[i + 1]))]) for i in range(len(optimal) - 1)])"
   ]
  },
  {
   "cell_type": "code",
   "execution_count": 88,
   "metadata": {},
   "outputs": [],
   "source": [
    "def calculate_current_score(nodes, current_state) -> float:\n",
    "    return sum([nodes[current_state[i]].distance(nodes[current_state[i + 1]]) for i in range(len(current_state) - 1)])\n"
   ]
  },
  {
   "cell_type": "markdown",
   "metadata": {},
   "source": [
    "#### Plotting"
   ]
  },
  {
   "cell_type": "code",
   "execution_count": 238,
   "metadata": {},
   "outputs": [],
   "source": [
    "def convergence_plotter(scores_list, steps, optimal_score) -> None:\n",
    "    scores_list = np.array(scores_list)\n",
    "    means = np.mean(scores_list, axis=0)\n",
    "    print(means[-1])\n",
    "    sem = stats.sem(scores_list, axis=0)\n",
    "    ci_lower = means - 1.96 * sem\n",
    "    ci_upper = means + 1.96 * sem\n",
    "    plt.plot(steps, means, label='Mean', color='blue')\n",
    "    plt.fill_between(steps, ci_lower, ci_upper, color='lightblue', alpha=0.3, label='95% CI')\n",
    "    plt.axhline(y=optimal_score, color='g', linestyle='-')\n",
    "    plt.title('Convergence')\n",
    "    plt.ylabel('Distance')\n",
    "    plt.xlabel('Steps')\n",
    "    plt.legend()\n",
    "    plt.show()"
   ]
  },
  {
   "cell_type": "markdown",
   "metadata": {},
   "source": [
    "## Testing"
   ]
  },
  {
   "cell_type": "markdown",
   "metadata": {},
   "source": [
    "Testing happens on the configuration of the eli51.tsp file. For experiments the bigger\n",
    "network a280.tsp is used. "
   ]
  },
  {
   "cell_type": "code",
   "execution_count": 305,
   "metadata": {},
   "outputs": [],
   "source": [
    "# Create simple TSP\n",
    "file_name = 'eil51'\n",
    "nodes, initial_list = load_data(file_name)\n",
    "copy_initial = initial_list.copy()\n",
    "temperature = 10000\n",
    "rate = 0.99\n",
    "markov_length = 150"
   ]
  },
  {
   "cell_type": "code",
   "execution_count": 306,
   "metadata": {},
   "outputs": [],
   "source": [
    "random_start = create_random(copy_initial)\n",
    "siman = SimulatedAnnealing(random_start, temperature, rate, nodes, markov_length)"
   ]
  },
  {
   "cell_type": "code",
   "execution_count": 307,
   "metadata": {},
   "outputs": [],
   "source": [
    "solution, score = siman.run()"
   ]
  },
  {
   "cell_type": "code",
   "execution_count": 308,
   "metadata": {},
   "outputs": [
    {
     "data": {
      "text/plain": [
       "463.1702064971314"
      ]
     },
     "execution_count": 308,
     "metadata": {},
     "output_type": "execute_result"
    }
   ],
   "source": [
    "score"
   ]
  },
  {
   "cell_type": "code",
   "execution_count": 309,
   "metadata": {},
   "outputs": [
    {
     "name": "stdout",
     "output_type": "stream",
     "text": [
      "[1, 22, 2, 29, 21, 50, 34, 30, 39, 10, 49, 9, 16, 38, 5, 12, 47, 18, 4, 17, 37, 15, 33, 45, 44, 42, 19, 40, 41, 13, 25, 14, 6, 51, 46, 11, 32, 27, 48, 23, 24, 43, 7, 26, 8, 31, 28, 3, 20, 36, 35, 1]\n"
     ]
    }
   ],
   "source": [
    "print(solution)"
   ]
  },
  {
   "cell_type": "code",
   "execution_count": 253,
   "metadata": {},
   "outputs": [
    {
     "data": {
      "text/plain": [
       "2548.8811037431624"
      ]
     },
     "execution_count": 253,
     "metadata": {},
     "output_type": "execute_result"
    }
   ],
   "source": [
    "calculate_optimal(nodes, file_name)"
   ]
  },
  {
   "cell_type": "code",
   "execution_count": 235,
   "metadata": {},
   "outputs": [],
   "source": [
    "scores_list = list()\n",
    "for i in range(20):\n",
    "    random_start = create_random(copy_initial)\n",
    "    siman = SimulatedAnnealing(random_start, temperature, rate, nodes, markov_length)\n",
    "    siman.run()\n",
    "    scores_list.append(siman.scores)"
   ]
  },
  {
   "cell_type": "code",
   "execution_count": 239,
   "metadata": {},
   "outputs": [
    {
     "name": "stdout",
     "output_type": "stream",
     "text": [
      "473.4220941414811\n"
     ]
    },
    {
     "data": {
      "image/png": "[encoded data removed]",
      "text/plain": [
       "<Figure size 640x480 with 1 Axes>"
      ]
     },
     "metadata": {},
     "output_type": "display_data"
    }
   ],
   "source": [
    "convergence_plotter(scores_list, siman.plot_steps, calculate_optimal(nodes, file_name))"
   ]
  },
  {
   "cell_type": "markdown",
   "metadata": {},
   "source": [
    "## Experiments"
   ]
  },
  {
   "cell_type": "markdown",
   "metadata": {},
   "source": [
    "#### Cooldown schedule"
   ]
  },
  {
   "cell_type": "code",
   "execution_count": null,
   "metadata": {},
   "outputs": [],
   "source": []
  },
  {
   "cell_type": "markdown",
   "metadata": {},
   "source": [
    "#### Markov chain length"
   ]
  },
  {
   "cell_type": "code",
   "execution_count": null,
   "metadata": {},
   "outputs": [],
   "source": []
  }
 ],
 "metadata": {
  "kernelspec": {
   "display_name": "Python 3",
   "language": "python",
   "name": "python3"
  },
  "language_info": {
   "codemirror_mode": {
    "name": "ipython",
    "version": 3
   },
   "file_extension": ".py",
   "mimetype": "text/x-python",
   "name": "python",
   "nbconvert_exporter": "python",
   "pygments_lexer": "ipython3",
   "version": "3.9.9"
  }
 },
 "nbformat": 4,
 "nbformat_minor": 2
}
